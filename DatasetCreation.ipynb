{
  "nbformat": 4,
  "nbformat_minor": 0,
  "metadata": {
    "colab": {
      "name": "DatasetCreation.ipynb",
      "private_outputs": true,
      "provenance": [],
      "collapsed_sections": [
        "OjT4cng4UFav"
      ],
      "authorship_tag": "ABX9TyMxIzrX9Sq0lvR2n9ZMDGpk",
      "include_colab_link": true
    },
    "kernelspec": {
      "name": "python3",
      "display_name": "Python 3"
    },
    "language_info": {
      "name": "python"
    }
  },
  "cells": [
    {
      "cell_type": "markdown",
      "metadata": {
        "id": "view-in-github",
        "colab_type": "text"
      },
      "source": [
        "<a href=\"https://colab.research.google.com/github/ZakriaJanjua/Dataset-Creation/blob/main/DatasetCreation.ipynb\" target=\"_parent\"><img src=\"https://colab.research.google.com/assets/colab-badge.svg\" alt=\"Open In Colab\"/></a>"
      ]
    },
    {
      "cell_type": "markdown",
      "metadata": {
        "id": "OjT4cng4UFav"
      },
      "source": [
        "# Task-1: Get info box "
      ]
    },
    {
      "cell_type": "code",
      "metadata": {
        "id": "UqWn94BQS0tT"
      },
      "source": [
        "from bs4 import BeautifulSoup as bs\n",
        "import requests "
      ],
      "execution_count": null,
      "outputs": []
    },
    {
      "cell_type": "code",
      "metadata": {
        "id": "ansj5-WBT9Rd"
      },
      "source": [
        "r = requests.get('https://en.wikipedia.org/wiki/Toy_Story_3')\n",
        "\n",
        "soup = bs(r.content)"
      ],
      "execution_count": null,
      "outputs": []
    },
    {
      "cell_type": "code",
      "metadata": {
        "id": "c8kXsCQxUx5S"
      },
      "source": [
        "info_box = soup.find(class_=\"infobox vevent\")"
      ],
      "execution_count": null,
      "outputs": []
    },
    {
      "cell_type": "code",
      "metadata": {
        "id": "oA7fiuTgVRRd"
      },
      "source": [
        "info_rows = info_box.find_all('tr')"
      ],
      "execution_count": null,
      "outputs": []
    },
    {
      "cell_type": "code",
      "metadata": {
        "id": "UOShD4CiVxwj"
      },
      "source": [
        "def get_content_value(row_data):\n",
        "    if row_data.find('li'):\n",
        "        return[li.get_text(' ', strip=True).replace('\\xa0', ' ') for li in row_data.find_all('li')]\n",
        "    else:\n",
        "        return row_data.get_text(' ', strip=True).replace('\\xa0', ' ')\n",
        "\n",
        "movie_info = {}\n",
        "\n",
        "for index, row in enumerate(info_rows):\n",
        "    if index == 0:\n",
        "        movie_info['title'] = row.find('th').get_text()\n",
        "    elif index == 1:\n",
        "        continue\n",
        "    else:\n",
        "        movie_info[row.find('th').get_text(' ', strip=True)] = get_content_value(row.find('td'))\n",
        "print(movie_info)"
      ],
      "execution_count": null,
      "outputs": []
    },
    {
      "cell_type": "markdown",
      "metadata": {
        "id": "qflYI8jdc3Fb"
      },
      "source": [
        "# Task-2: Get info box for all movies"
      ]
    },
    {
      "cell_type": "code",
      "metadata": {
        "id": "o1L5SIMfXJOT"
      },
      "source": [
        "from bs4 import BeautifulSoup as bs\n",
        "import requests \n",
        "\n",
        "r = requests.get('https://en.wikipedia.org/wiki/List_of_Walt_Disney_Pictures_films')\n",
        "\n",
        "soup = bs(r.content)"
      ],
      "execution_count": null,
      "outputs": []
    },
    {
      "cell_type": "code",
      "metadata": {
        "id": "_2X3pk7H2qkO"
      },
      "source": [
        "movies = soup.select('.wikitable.sortable i a')\n",
        "movies[0]['href']"
      ],
      "execution_count": null,
      "outputs": []
    },
    {
      "cell_type": "code",
      "metadata": {
        "id": "r8bX8zTD3Mxt"
      },
      "source": [
        "def get_content_value(row_data):\n",
        "    if row_data.find('li'):\n",
        "        return[li.get_text(' ', strip=True).replace('\\xa0', ' ') for li in row_data.find_all('li')]\n",
        "    elif row_data.find('br'):\n",
        "        return [text for text in row_data.stripped_strings]\n",
        "    else:\n",
        "        return row_data.get_text(' ', strip=True).replace('\\xa0', ' ')\n",
        "\n",
        "def clean_tags(tags):\n",
        "    for tag in tags.find_all([\"sup\", \"span\"]):\n",
        "        tag.decompose()\n",
        "\n",
        "def get_info_box(url):\n",
        "    \n",
        "    r = requests.get(url)\n",
        "    webpage = bs(r.content)\n",
        "    info_box = webpage.find(class_=\"infobox vevent\")\n",
        "    info_rows = info_box.find_all('tr')\n",
        "    \n",
        "    clean_tags(webpage)\n",
        "\n",
        "    movie_info = {}\n",
        "    for index, row in enumerate(info_rows):\n",
        "        if index == 0:\n",
        "            movie_info['title'] = row.find('th').get_text()\n",
        "        else:\n",
        "            header = row.find('th')\n",
        "            if header:\n",
        "                movie_key = header.get_text(' ', strip=True)\n",
        "                movie_content = get_content_value(row.find('td')) \n",
        "                movie_info[movie_key] = movie_content\n",
        "\n",
        "    return movie_info\n"
      ],
      "execution_count": null,
      "outputs": []
    },
    {
      "cell_type": "code",
      "metadata": {
        "id": "9GkZcIwRoT6C"
      },
      "source": [
        "get_info_box('https://en.wikipedia.org/wiki/One_Little_Indian_(film)')"
      ],
      "execution_count": null,
      "outputs": []
    },
    {
      "cell_type": "code",
      "metadata": {
        "id": "trytoQlL_0XT"
      },
      "source": [
        "movie_info_list = []\n",
        "base_path = 'https://en.wikipedia.org/'\n",
        "\n",
        "for index, movie in enumerate(movies):\n",
        "    if index % 10 == 0:\n",
        "        print(index)\n",
        "    try:\n",
        "        relative_path = movie['href']\n",
        "        title = movie['title']\n",
        "        full_path = base_path + relative_path\n",
        "        movie_info_list.append(get_info_box(full_path))    \n",
        "    except Exception as e:\n",
        "        print(movie.get_text())\n",
        "        print(e)"
      ],
      "execution_count": null,
      "outputs": []
    },
    {
      "cell_type": "code",
      "metadata": {
        "id": "j3OOVjY5A0xm"
      },
      "source": [
        "print(len(movie_info_list))"
      ],
      "execution_count": null,
      "outputs": []
    },
    {
      "cell_type": "markdown",
      "metadata": {
        "id": "8qXH8dfXEcx-"
      },
      "source": [
        "### Save/Load data"
      ]
    },
    {
      "cell_type": "code",
      "metadata": {
        "id": "fyeRIh6oEYLP"
      },
      "source": [
        "import json\n",
        "\n",
        "def save_data(title, data):\n",
        "    with open(title, 'w', encoding='utf-8') as f:\n",
        "        json.dump(data, f, ensure_ascii=False, indent=4)"
      ],
      "execution_count": null,
      "outputs": []
    },
    {
      "cell_type": "code",
      "metadata": {
        "id": "_01qyfXHE2R4"
      },
      "source": [
        "import json\n",
        "\n",
        "def load_data(title):\n",
        "    with open(title, encoding='utf-8') as f:\n",
        "        return json.load(f)"
      ],
      "execution_count": null,
      "outputs": []
    },
    {
      "cell_type": "code",
      "metadata": {
        "id": "iP1pq18aFISh"
      },
      "source": [
        "save_data('disney_data.json', movie_info_list)"
      ],
      "execution_count": null,
      "outputs": []
    },
    {
      "cell_type": "code",
      "metadata": {
        "id": "-1l0fKdtFT9h"
      },
      "source": [
        "movie_data = load_data('/content/disney_data.json')"
      ],
      "execution_count": null,
      "outputs": []
    },
    {
      "cell_type": "code",
      "metadata": {
        "id": "JHVMg1h2Gbmf"
      },
      "source": [
        "movie_data[-11]"
      ],
      "execution_count": null,
      "outputs": []
    },
    {
      "cell_type": "code",
      "metadata": {
        "id": "vNGLqvSjGePv"
      },
      "source": [
        "print([movie.get('Running time', 'N/A') for movie in movie_info_list])"
      ],
      "execution_count": null,
      "outputs": []
    },
    {
      "cell_type": "code",
      "metadata": {
        "id": "vrWXDBRP33v9"
      },
      "source": [
        "def minutes_to_integer(running_time):\n",
        "    if running_time == 'N/A':\n",
        "        return None\n",
        "    elif isinstance(running_time, list):\n",
        "        return int(running_time[0].split(' ')[0]) \n",
        "    else:    \n",
        "        return int(running_time.split(' ')[0])\n",
        "    \n",
        "print(minutes_to_integer(['90 minutes, 80 minutes']))    "
      ],
      "execution_count": null,
      "outputs": []
    },
    {
      "cell_type": "code",
      "metadata": {
        "id": "GXQLNxgT4zRN"
      },
      "source": [
        "for movie in movie_info_list:\n",
        "    movie['Running time (int)'] = minutes_to_integer(movie.get('Running time', 'N/A'))"
      ],
      "execution_count": null,
      "outputs": []
    },
    {
      "cell_type": "code",
      "metadata": {
        "id": "RHM2pjV08qp_"
      },
      "source": [
        "print([movie.get('Running time (int)') for movie in movie_info_list])"
      ],
      "execution_count": null,
      "outputs": []
    },
    {
      "cell_type": "code",
      "metadata": {
        "id": "xBO2Z0Lt9Io2"
      },
      "source": [
        "print([movie.get('Budget', 'N/A') for movie in movie_info_list])"
      ],
      "execution_count": null,
      "outputs": []
    },
    {
      "cell_type": "code",
      "metadata": {
        "id": "qzmoClH6s0Rl"
      },
      "source": [
        "import re\n",
        "\n",
        "number = r'\\d+(,\\d{3})*\\.*\\d*'\n",
        "amounts = r'thousand|million|billion'\n",
        "\n",
        "value_re = rf'\\${number}'\n",
        "word_re = rf'\\${number}(-|-|\\sto\\s)?({number})?\\s({amounts})'\n",
        "\n",
        "def word_to_value(word):\n",
        "    value_dict = {'thousand': 1000, 'million': 1000000, 'billion': 1000000000}\n",
        "    return value_dict[word]\n",
        "\n",
        "def parse_word_syntax(string):\n",
        "    value_string = re.search(number, string).group()\n",
        "    value = float(value_string.replace(',',''))\n",
        "    word = re.search(amounts, string, flags=re.I).group()\n",
        "    word_value = word_to_value(word)\n",
        "    return value * word_value\n",
        "\n",
        "def parse_value_syntax(string):\n",
        "    value_string = re.search(number, string, flags=re.I).group().lower() \n",
        "    value = float(value_string.replace(',', ''))\n",
        "    return value\n",
        "\n",
        "def money_conversion(money):\n",
        "    \n",
        "    if money == 'N/A':\n",
        "        return None\n",
        "\n",
        "    if isinstance(money, list):\n",
        "        money = money[0]\n",
        "    \n",
        "    word_syntax = re.search(word_re, money)\n",
        "    value_syntax = re.search(value_re, money)\n",
        "    \n",
        "    if word_syntax:\n",
        "        return parse_word_syntax(word_syntax.group())\n",
        "    elif value_syntax:\n",
        "        return parse_value_syntax(value_syntax.group())\n",
        "    else:\n",
        "        return None"
      ],
      "execution_count": null,
      "outputs": []
    },
    {
      "cell_type": "code",
      "metadata": {
        "id": "VRLgSPH7mRG6"
      },
      "source": [
        "for movie in movie_info_list:\n",
        "    movie['Budget (float)'] = money_conversion(movie.get('Budget', 'N/A'))\n",
        "    movie['Box office (float)'] = money_conversion(movie.get('Box office', 'N/A'))\n",
        "    "
      ],
      "execution_count": null,
      "outputs": []
    },
    {
      "cell_type": "code",
      "metadata": {
        "id": "IudtqXs0m-dJ"
      },
      "source": [
        "[movie.get('Release date', 'N/A') for movie in movie_info_list]"
      ],
      "execution_count": null,
      "outputs": []
    },
    {
      "cell_type": "code",
      "metadata": {
        "id": "KCruyNFFofgd"
      },
      "source": [
        "from datetime import datetime\n",
        "\n",
        "dates = [movie.get('Release date', 'N/A') for movie in movie_info_list]\n",
        "\n",
        "def clean_date(date):\n",
        "    return date.split('(')[0].strip()\n",
        "\n",
        "def date_conversion(date):\n",
        "    if isinstance(date, list):\n",
        "        date = date[0]\n",
        "\n",
        "    if date == 'N/A':\n",
        "        return None\n",
        "    date_str = clean_date(date)\n",
        "    formats = ['%B %d, %Y', '%d %B %Y']\n",
        "    \n",
        "    for format in formats:\n",
        "        try:\n",
        "            return datetime.strptime(date_str, format) \n",
        "        except:\n",
        "            pass\n",
        "    return None"
      ],
      "execution_count": null,
      "outputs": []
    },
    {
      "cell_type": "code",
      "metadata": {
        "id": "tfAcArAbskSk"
      },
      "source": [
        "for movie in movie_info_list:\n",
        "    movie['Release date (datetime)'] = date_conversion(movie.get('Release date', 'N/A'))"
      ],
      "execution_count": null,
      "outputs": []
    },
    {
      "cell_type": "code",
      "metadata": {
        "id": "eNOVxKVrtUMD"
      },
      "source": [
        "movie_info_list[-94]"
      ],
      "execution_count": null,
      "outputs": []
    },
    {
      "cell_type": "markdown",
      "metadata": {
        "id": "EjdQxuMsuT8s"
      },
      "source": [
        "## Save/Load using Pickle"
      ]
    },
    {
      "cell_type": "code",
      "metadata": {
        "id": "BzHbdOwIteqG"
      },
      "source": [
        "import pickle\n",
        "\n",
        "def save_data_pickle(name, data):\n",
        "    with open(name, 'wb') as f:\n",
        "        pickle.dump(data, f)"
      ],
      "execution_count": null,
      "outputs": []
    },
    {
      "cell_type": "code",
      "metadata": {
        "id": "4tEL_Bydu_lh"
      },
      "source": [
        "def load_data_pickle(name):\n",
        "    with open(name, 'rb') as f:\n",
        "        return pickle.load(f)"
      ],
      "execution_count": null,
      "outputs": []
    },
    {
      "cell_type": "code",
      "metadata": {
        "id": "sf6gkUvhvZHK"
      },
      "source": [
        "save_data_pickle('disney_data_cleaned.pickle', movie_info_list)"
      ],
      "execution_count": null,
      "outputs": []
    },
    {
      "cell_type": "code",
      "metadata": {
        "id": "6MCG_v5kvmC8"
      },
      "source": [
        "movie_info_list = load_data_pickle('disney_data_cleaned.pickle')"
      ],
      "execution_count": null,
      "outputs": []
    },
    {
      "cell_type": "markdown",
      "metadata": {
        "id": "VUa2cVw2QmIz"
      },
      "source": [
        "# Task-3: IMDB, Ratings, Metascore"
      ]
    },
    {
      "cell_type": "code",
      "metadata": {
        "id": "sD1-AtVuv08-"
      },
      "source": [
        "import requests\n",
        "import urllib\n",
        "\n",
        "base_url = 'http://www.omdbapi.com/?'\n",
        "\n",
        "def get_omdb_info(title):\n",
        "    # hide your api key \n",
        "    parameters = {'apikey': '7198b474' ,'t': title}\n",
        "    params_encoded = urllib.parse.urlencode(parameters)\n",
        "    full_url = base_url + params_encoded\n",
        "    return requests.get(full_url).json()\n",
        "\n",
        "def get_ratings(omdb_info):\n",
        "    ratings = omdb_info.get('Ratings', [])\n",
        "    for rating in ratings:\n",
        "        if rating['Source'] == 'Metacritic':\n",
        "            return rating['Value']\n",
        "    return None"
      ],
      "execution_count": null,
      "outputs": []
    },
    {
      "cell_type": "code",
      "metadata": {
        "id": "7LHzZ4u9TwW9"
      },
      "source": [
        "info = get_omdb_info('beauty and the beast')"
      ],
      "execution_count": null,
      "outputs": []
    },
    {
      "cell_type": "code",
      "metadata": {
        "id": "WiLLT6UeT0JY"
      },
      "source": [
        "get_ratings(info)"
      ],
      "execution_count": null,
      "outputs": []
    },
    {
      "cell_type": "code",
      "metadata": {
        "id": "lMsn5cSqWnHZ"
      },
      "source": [
        "for movie in movie_info_list:\n",
        "    title = movie['title']\n",
        "    omdb_info = get_omdb_info(title)\n",
        "    movie['imdb'] = omdb_info.get('imdbRating', None)\n",
        "    movie['metascore'] = omdb_info.get('Metascore', None)\n",
        "    movie['ratings'] = get_ratings(omdb_info)"
      ],
      "execution_count": null,
      "outputs": []
    },
    {
      "cell_type": "code",
      "metadata": {
        "id": "MfPaks3GYEwR"
      },
      "source": [
        "movie_info_list[-53]"
      ],
      "execution_count": null,
      "outputs": []
    },
    {
      "cell_type": "code",
      "metadata": {
        "id": "RuLxJorKYWQD"
      },
      "source": [
        "save_data_pickle('disney_data_final.pickle', movie_info_list)"
      ],
      "execution_count": null,
      "outputs": []
    },
    {
      "cell_type": "markdown",
      "metadata": {
        "id": "fGDDyvC-ZRNX"
      },
      "source": [
        "# Task-4: Save data as JSON and CSV"
      ]
    },
    {
      "cell_type": "code",
      "metadata": {
        "id": "asOc7DnJZLNE"
      },
      "source": [
        "movie_info_copy = [movie.copy() for movie in movie_info_list]"
      ],
      "execution_count": null,
      "outputs": []
    },
    {
      "cell_type": "code",
      "metadata": {
        "id": "tHSoNDBpZdyq"
      },
      "source": [
        "movie_info_copy[-53]"
      ],
      "execution_count": null,
      "outputs": []
    },
    {
      "cell_type": "code",
      "metadata": {
        "id": "_lh8ip04ZsAB"
      },
      "source": [
        "for movie in movie_info_copy:\n",
        "    current_date = movie['Release date (datetime)']\n",
        "    if current_date:\n",
        "        movie['Release date (datetime)'] = current_date.strftime('%B %d, %Y')\n",
        "    else:\n",
        "        movie['Release date (datetime)'] = None"
      ],
      "execution_count": null,
      "outputs": []
    },
    {
      "cell_type": "code",
      "metadata": {
        "id": "D_BamrReaXeC"
      },
      "source": [
        "movie_info_copy[-53]"
      ],
      "execution_count": null,
      "outputs": []
    },
    {
      "cell_type": "code",
      "metadata": {
        "id": "J5PTseECaaRL"
      },
      "source": [
        "save_data('disney_data_final.json', movie_info_copy)"
      ],
      "execution_count": null,
      "outputs": []
    },
    {
      "cell_type": "code",
      "metadata": {
        "id": "rIMvnLWwawNZ"
      },
      "source": [
        "import pandas as pd\n",
        "df = pd.DataFrame(movie_info_list)  "
      ],
      "execution_count": null,
      "outputs": []
    },
    {
      "cell_type": "code",
      "metadata": {
        "id": "WTNzfXOebD1t"
      },
      "source": [
        "df.head()"
      ],
      "execution_count": null,
      "outputs": []
    },
    {
      "cell_type": "code",
      "metadata": {
        "id": "kMHUeH9RbFB2"
      },
      "source": [
        "df.to_csv('disney_data_final.csv')"
      ],
      "execution_count": null,
      "outputs": []
    },
    {
      "cell_type": "code",
      "metadata": {
        "id": "uIpW2L0bbcmC"
      },
      "source": [
        "df.info()"
      ],
      "execution_count": null,
      "outputs": []
    },
    {
      "cell_type": "code",
      "metadata": {
        "id": "DCr7tUXWbeXn"
      },
      "source": [
        "running_time = df.sort_values(['Running time (int)'], ascending=True)\n",
        "running_time.head()"
      ],
      "execution_count": null,
      "outputs": []
    },
    {
      "cell_type": "code",
      "metadata": {
        "id": "hpbUKEmib4UL"
      },
      "source": [
        ""
      ],
      "execution_count": null,
      "outputs": []
    }
  ]
}